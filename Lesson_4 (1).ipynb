{
 "cells": [
  {
   "cell_type": "code",
   "execution_count": 2,
   "id": "14678524",
   "metadata": {},
   "outputs": [
    {
     "ename": "ModuleNotFoundError",
     "evalue": "No module named 'dotenv'",
     "output_type": "error",
     "traceback": [
      "\u001b[31m---------------------------------------------------------------------------\u001b[39m",
      "\u001b[31mModuleNotFoundError\u001b[39m                       Traceback (most recent call last)",
      "\u001b[36mCell\u001b[39m\u001b[36m \u001b[39m\u001b[32mIn[2]\u001b[39m\u001b[32m, line 1\u001b[39m\n\u001b[32m----> \u001b[39m\u001b[32m1\u001b[39m \u001b[38;5;28;01mfrom\u001b[39;00m\u001b[38;5;250m \u001b[39m\u001b[34;01mutils\u001b[39;00m\u001b[38;5;250m \u001b[39m\u001b[38;5;28;01mimport\u001b[39;00m *\n\u001b[32m      2\u001b[39m \u001b[38;5;28;01mimport\u001b[39;00m\u001b[38;5;250m \u001b[39m\u001b[34;01mnumpy\u001b[39;00m\u001b[38;5;250m \u001b[39m\u001b[38;5;28;01mas\u001b[39;00m\u001b[38;5;250m \u001b[39m\u001b[34;01mnp\u001b[39;00m\n\u001b[32m      4\u001b[39m \u001b[38;5;28;01mimport\u001b[39;00m\u001b[38;5;250m \u001b[39m\u001b[34;01mwarnings\u001b[39;00m\n",
      "\u001b[36mFile \u001b[39m\u001b[32m~/GRPO_test/PREDIBASE/utils.py:8\u001b[39m\n\u001b[32m      5\u001b[39m \u001b[38;5;28;01mfrom\u001b[39;00m\u001b[38;5;250m \u001b[39m\u001b[34;01mtyping\u001b[39;00m\u001b[38;5;250m \u001b[39m\u001b[38;5;28;01mimport\u001b[39;00m List\n\u001b[32m      6\u001b[39m \u001b[38;5;28;01mimport\u001b[39;00m\u001b[38;5;250m \u001b[39m\u001b[34;01mnumpy\u001b[39;00m\u001b[38;5;250m \u001b[39m\u001b[38;5;28;01mas\u001b[39;00m\u001b[38;5;250m \u001b[39m\u001b[34;01mnp\u001b[39;00m\n\u001b[32m----> \u001b[39m\u001b[32m8\u001b[39m \u001b[38;5;28;01mfrom\u001b[39;00m\u001b[38;5;250m \u001b[39m\u001b[34;01mdotenv\u001b[39;00m\u001b[38;5;250m \u001b[39m\u001b[38;5;28;01mimport\u001b[39;00m load_dotenv\n\u001b[32m      9\u001b[39m \u001b[38;5;28;01mfrom\u001b[39;00m\u001b[38;5;250m \u001b[39m\u001b[34;01mopenai\u001b[39;00m\u001b[38;5;250m \u001b[39m\u001b[38;5;28;01mimport\u001b[39;00m OpenAI\n\u001b[32m     10\u001b[39m \u001b[38;5;28;01mfrom\u001b[39;00m\u001b[38;5;250m \u001b[39m\u001b[34;01mtransformers\u001b[39;00m\u001b[38;5;250m \u001b[39m\u001b[38;5;28;01mimport\u001b[39;00m AutoTokenizer\n",
      "\u001b[31mModuleNotFoundError\u001b[39m: No module named 'dotenv'"
     ]
    }
   ],
   "source": [
    "from utils import *\n",
    "import numpy as np\n",
    "\n",
    "import warnings\n",
    "warnings.filterwarnings(\"ignore\")\n",
    "\n",
    "import torch"
   ]
  },
  {
   "cell_type": "code",
   "execution_count": null,
   "id": "0c8b734c",
   "metadata": {},
   "outputs": [],
   "source": [
    "model_id = \"Qwen/Qwen2.5-7B-Instruct\""
   ]
  },
  {
   "cell_type": "code",
   "execution_count": null,
   "id": "2e91cbc6",
   "metadata": {},
   "outputs": [],
   "source": [
    "# Uncomment the line below if running in your own environment - the deployment is already setup for you here\n",
    "create_deployment()"
   ]
  },
  {
   "cell_type": "code",
   "execution_count": 3,
   "id": "cfce14c8",
   "metadata": {},
   "outputs": [],
   "source": [
    "def wordle_reward(guess: str, secret_word: str) -> int:\n",
    "    if guess.upper() == secret_word.upper():\n",
    "        return 1   # correct guess\n",
    "    else:\n",
    "        return 0   # incorrect guess"
   ]
  },
  {
   "cell_type": "code",
   "execution_count": 4,
   "id": "173aa2e1",
   "metadata": {},
   "outputs": [
    {
     "data": {
      "text/plain": [
       "[CRANE → Feedback: C(x) R(x) A(x) N(✓) E(x),\n",
       " BLOND → Feedback: B(x) L(x) O(-) N(✓) D(✓),\n",
       " FOUND → Feedback: F(x) O(✓) U(✓) N(✓) D(✓)]"
      ]
     },
     "execution_count": 4,
     "metadata": {},
     "output_type": "execute_result"
    }
   ],
   "source": [
    "secret_word = \"POUND\"\n",
    "\n",
    "past_guesses = [\n",
    "    GuessWithFeedback.from_secret(guess=\"CRANE\", secret=secret_word),\n",
    "    GuessWithFeedback.from_secret(guess=\"BLOND\", secret=secret_word),\n",
    "    GuessWithFeedback.from_secret(guess=\"FOUND\", secret=secret_word),\n",
    "]\n",
    "past_guesses"
   ]
  },
  {
   "cell_type": "code",
   "execution_count": null,
   "id": "d8ce77b9",
   "metadata": {},
   "outputs": [],
   "source": [
    "response = generate(get_messages(past_guesses))[0]\n",
    "guess = extract_guess(response)\n",
    "reward = wordle_reward(guess, secret_word)\n",
    "\n",
    "print(f\"Guessed Word: {guess} -> Reward: {reward}\")"
   ]
  },
  {
   "cell_type": "code",
   "execution_count": null,
   "id": "69760c3d",
   "metadata": {},
   "outputs": [],
   "source": []
  },
  {
   "cell_type": "code",
   "execution_count": null,
   "id": "b61c10df",
   "metadata": {},
   "outputs": [],
   "source": [
    "def compute_advantages(rewards: list):\n",
    "    rewards = np.array(rewards)\n",
    "    \n",
    "    # Compute the mean and standard deviation of the rewards\n",
    "    mean_reward = np.mean(rewards)\n",
    "    std_reward = np.std(rewards)\n",
    "\n",
    "    # Avoid division by zero in case of zero variance (typically happens when all rewards are 0)\n",
    "    # Note: In the GRPO implementation, we add 1e-4 to the std_reward to avoid division by zero\n",
    "    if std_reward == 0:\n",
    "        return [0] * len(rewards)\n",
    "\n",
    "    # Divide by stddev of rewards to normalize range to 0\n",
    "    advantages = (rewards - mean_reward) / std_reward\n",
    "    return advantages.tolist()"
   ]
  },
  {
   "cell_type": "code",
   "execution_count": null,
   "id": "5e0c8862",
   "metadata": {},
   "outputs": [],
   "source": [
    "rewards = [0.0, 0.2, 0.4, 0.5, 0.5, 0.6, 0.8, 1.0]\n",
    "compute_advantages(rewards)"
   ]
  },
  {
   "cell_type": "code",
   "execution_count": null,
   "id": "245827ce",
   "metadata": {},
   "outputs": [],
   "source": [
    "def render_guess_table(response, reward_fn):\n",
    "    guesses = [extract_guess(guess) for guess in response]\n",
    "    rewards = [reward_fn(guess, secret_word) for guess in guesses]\n",
    "    print_guesses_table(guesses, rewards)"
   ]
  },
  {
   "cell_type": "code",
   "execution_count": null,
   "id": "b5e19990",
   "metadata": {},
   "outputs": [],
   "source": [
    "print(f\"Secret: {secret_word}\")\n",
    "response = generate(get_messages(past_guesses), num_guesses=8)\n",
    "render_guess_table(response, wordle_reward)"
   ]
  },
  {
   "cell_type": "code",
   "execution_count": null,
   "id": "8c7622cf",
   "metadata": {},
   "outputs": [],
   "source": [
    "def wordle_reward_partial_credit(guess: str, secret_word: str) -> float:\n",
    "    if len(guess) != len(secret_word):\n",
    "        # no reward for having the wrong number of letters\n",
    "        return 0.0\n",
    "    \n",
    "    valid_letters = set(secret_word)\n",
    "    reward = 0.0\n",
    "    for letter, secret_letter in zip(guess, secret_word):\n",
    "        if letter == secret_letter:\n",
    "            # right letter, right location\n",
    "            reward += 0.2\n",
    "        elif letter in valid_letters:\n",
    "            # right letter, wrong location\n",
    "            reward += 0.1\n",
    "        else:\n",
    "            # no reward\n",
    "            pass\n",
    "    return reward"
   ]
  },
  {
   "cell_type": "code",
   "execution_count": null,
   "id": "15041c45",
   "metadata": {},
   "outputs": [],
   "source": [
    "print(f\"Secret: {secret_word}\")\n",
    "response = generate(get_messages(past_guesses), num_guesses=8, temperature=0)\n",
    "render_guess_table(response, wordle_reward_partial_credit)"
   ]
  },
  {
   "cell_type": "code",
   "execution_count": null,
   "id": "3f06fedc",
   "metadata": {},
   "outputs": [],
   "source": [
    "print(f\"Secret: {secret_word}\")\n",
    "response = generate(get_messages(past_guesses), num_guesses=8, temperature=1.3)\n",
    "render_guess_table(response, wordle_reward_partial_credit)"
   ]
  },
  {
   "cell_type": "code",
   "execution_count": null,
   "id": "0b43f74a",
   "metadata": {},
   "outputs": [],
   "source": [
    "print(f\"Secret: {secret_word}\")\n",
    "response = generate(get_messages(past_guesses), num_guesses=8, temperature=0.7)\n",
    "render_guess_table(response, wordle_reward_partial_credit)"
   ]
  },
  {
   "cell_type": "code",
   "execution_count": null,
   "id": "adf85888",
   "metadata": {},
   "outputs": [],
   "source": []
  }
 ],
 "metadata": {
  "kernelspec": {
   "display_name": ".venv",
   "language": "python",
   "name": "python3"
  },
  "language_info": {
   "codemirror_mode": {
    "name": "ipython",
    "version": 3
   },
   "file_extension": ".py",
   "mimetype": "text/x-python",
   "name": "python",
   "nbconvert_exporter": "python",
   "pygments_lexer": "ipython3",
   "version": "3.11.4"
  }
 },
 "nbformat": 4,
 "nbformat_minor": 5
}
